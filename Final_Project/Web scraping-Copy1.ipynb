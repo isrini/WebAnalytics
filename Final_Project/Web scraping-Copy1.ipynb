{
 "cells": [
  {
   "cell_type": "markdown",
   "metadata": {},
   "source": [
    "# Final Project - Movies recommendation\n",
    "\n",
    "In the final project, we will scrape the text of hollywood movies released since 2000, and build a recommender system based on the textual content of the movies obtained from Wikipedia.\n",
    "\n",
    "## Phase 1: Gathering data\n",
    "\n",
    "The wikipedia URLs have the common URL format given below (where XXXX in the below URL format represents the year):\n"
   ]
  },
  {
   "cell_type": "markdown",
   "metadata": {},
   "source": [
    "https://en.wikipedia.org/wiki/List_of_American_films_of_XXXX"
   ]
  },
  {
   "cell_type": "markdown",
   "metadata": {},
   "source": [
    "### Import the required packages"
   ]
  },
  {
   "cell_type": "code",
   "execution_count": 3,
   "metadata": {
    "collapsed": true
   },
   "outputs": [],
   "source": [
    "import pandas as pd\n",
    "import numpy as np\n",
    "from IPython.display import display # Allows the use of display() for DataFrames\n",
    "import time\n",
    "import pickle #To save the objects that were created using webscraping\n",
    "import pprint\n",
    "from lxml import html\n",
    "import requests\n",
    "from sklearn.model_selection import train_test_split\n",
    "import warnings\n",
    "warnings.filterwarnings('ignore')\n",
    "from urllib.request import urlopen\n",
    "from bs4 import BeautifulSoup"
   ]
  },
  {
   "cell_type": "markdown",
   "metadata": {
    "collapsed": true
   },
   "source": [
    "### Step-1 \n",
    "Get the URL of each of the movie released since 2000 year from Wikipedia. The following code blocks will get the URLs along with othre details like cast, director, genre and year. The detailes are obtained in 2 pahses. In first phase we get the Movie names, URL and other details for the movies released between 2000 - 2013 years. In the second phase we get the movies details for the years 2014 to 2016. Since the format of the web page is different, we have to do this in 2 phases."
   ]
  },
  {
   "cell_type": "code",
   "execution_count": 88,
   "metadata": {
    "collapsed": true
   },
   "outputs": [],
   "source": [
    "##Get the movies and URLs for the years 2000-2014\n",
    "URL = list()\n",
    "Movie_Name = list()\n",
    "Director = list()\n",
    "Cast = list()\n",
    "Genre = list()\n",
    "year = list()\n",
    "\n",
    "bs = BeautifulSoup(html)\n",
    "for y in list(range(2000,2014)):\n",
    "    url = \"https://en.wikipedia.org/wiki/List_of_American_films_of_\"+str(y)\n",
    "    html = urlopen(url)\n",
    "    time.sleep(3)\n",
    "    bs = BeautifulSoup(html)\n",
    "    for table in bs.find_all('table', {\"class\":\"wikitable\"}):\n",
    "        for row in table.find_all('tr'):\n",
    "            columns = row.find_all('td')\n",
    "            if len(columns) > 4:\n",
    "                Movie_Name.append(columns[0].get_text())\n",
    "                Director.append(columns[1].get_text())\n",
    "                Cast.append(columns[2].get_text())\n",
    "                Genre.append(columns[3].get_text())\n",
    "                year.append(y)\n",
    "                try:\n",
    "                    a = columns[0].find('a',href=True)['href']\n",
    "                    URL.append(\"https://en.wikipedia.org\"+a)\n",
    "                except:\n",
    "                    URL.append(\"NA\")\n",
    "                    continue\n",
    "\n",
    "\n",
    "                "
   ]
  },
  {
   "cell_type": "code",
   "execution_count": 96,
   "metadata": {
    "collapsed": true
   },
   "outputs": [],
   "source": [
    "##Get the movies details for the years 2014 to 2016\n",
    "URL1 = list()\n",
    "Movie_Name1 = list()\n",
    "Director1 = list()\n",
    "Cast1 = list()\n",
    "Genre1 = list()\n",
    "year1 = list()\n",
    "\n",
    "for y in range(2014,2017):                    \n",
    "    url = \"https://en.wikipedia.org/wiki/List_of_American_films_of_\"+str(y)\n",
    "    try: \n",
    "        html = urlopen(url)\n",
    "    except:\n",
    "        print(\"problem with the following URL...continuining...:\")\n",
    "        print(url)\n",
    "        continue\n",
    "    time.sleep(3)\n",
    "    bs = BeautifulSoup(html)\n",
    "    for table in bs.find_all('table', {\"class\":\"wikitable\"}):\n",
    "        for row in table.find_all('tr'):\n",
    "            columns = row.find_all('td')\n",
    "            if len(columns) > 3: #To make sure that we are accessing the movies tables only\n",
    "                if len(columns) == 6:\n",
    "                    #print(columns[0].get_text())\n",
    "                    Movie_Name1.append(columns[0].get_text())\n",
    "                    Director1.append(columns[1].get_text())\n",
    "                    Cast1.append(columns[2].get_text())\n",
    "                    Genre1.append(columns[3].get_text())\n",
    "                    year1.append(y)\n",
    "                    try:\n",
    "                        a=columns[0].find('a',href=True)['href']\n",
    "                        URL1.append(\"https://en.wikipedia.org\"+a)\n",
    "                    except:\n",
    "                        URL1.append(\"NA\")\n",
    "                        continue\n",
    "                \n",
    "                if len(columns) == 7:\n",
    "                    #print(columns[1].get_text())\n",
    "                    Movie_Name1.append(columns[1].get_text())\n",
    "                    Director1.append(columns[2].get_text())\n",
    "                    Cast1.append(columns[3].get_text())\n",
    "                    Genre1.append(columns[4].get_text())\n",
    "                    year1.append(y)\n",
    "                    \n",
    "                    try:\n",
    "                        a=columns[1].find('a',href=True)['href']\n",
    "                        URL1.append(\"https://en.wikipedia.org\"+a)\n",
    "                    except:\n",
    "                        URL1.append(\"NA\")\n",
    "                        continue\n",
    "\n",
    "                if len(columns) > 7:\n",
    "                    #print(\"col len:{}\".format(len(columns)))\n",
    "                    #print(columns[2].get_text())\n",
    "                    Movie_Name1.append(columns[2].get_text())\n",
    "                    Director1.append(columns[3].get_text())\n",
    "                    Cast1.append(columns[4].get_text())\n",
    "                    Genre1.append(columns[5].get_text())\n",
    "                    year1.append(y)                    \n",
    "                    try:\n",
    "                        a=columns[2].find('a',href=True)['href']\n",
    "                        URL1.append(\"https://en.wikipedia.org\"+a)\n",
    "                    except:\n",
    "                        URL1.append(\"NA\")\n",
    "                        continue\n",
    "                    "
   ]
  },
  {
   "cell_type": "markdown",
   "metadata": {},
   "source": [
    "## Save the results\n",
    "We will save the movies details as a CSV file named URL.csv. This helps us to avoid running step-1 again."
   ]
  },
  {
   "cell_type": "code",
   "execution_count": 119,
   "metadata": {
    "collapsed": true
   },
   "outputs": [],
   "source": [
    "df = pd.DataFrame(list(zip(Movie_Name+Movie_Name1,URL+URL1,year+year1,Director+Director1,Cast+Cast1,Genre+Genre1)),\\\n",
    "                  columns=[\"Movie\",\"URL\",\"Year\",\"Director\",\"Cast\",\"Genre\"])\n",
    "\n",
    "#Remove the rows which do not have URL information\n",
    "\n",
    "df = df[df[\"URL\"] != \"NA\"]\n",
    "\n",
    "#Write the file\n",
    "df.to_csv(\"URL.csv\",encoding='utf-8',index=False)"
   ]
  },
  {
   "cell_type": "code",
   "execution_count": 11,
   "metadata": {},
   "outputs": [
    {
     "data": {
      "text/html": [
       "<div>\n",
       "<style>\n",
       "    .dataframe thead tr:only-child th {\n",
       "        text-align: right;\n",
       "    }\n",
       "\n",
       "    .dataframe thead th {\n",
       "        text-align: left;\n",
       "    }\n",
       "\n",
       "    .dataframe tbody tr th {\n",
       "        vertical-align: top;\n",
       "    }\n",
       "</style>\n",
       "<table border=\"1\" class=\"dataframe\">\n",
       "  <thead>\n",
       "    <tr style=\"text-align: right;\">\n",
       "      <th></th>\n",
       "      <th>Movie</th>\n",
       "      <th>URL</th>\n",
       "      <th>Year</th>\n",
       "      <th>Director</th>\n",
       "      <th>Cast</th>\n",
       "      <th>Genre</th>\n",
       "    </tr>\n",
       "  </thead>\n",
       "  <tbody>\n",
       "    <tr>\n",
       "      <th>0</th>\n",
       "      <td>102 Dalmatians</td>\n",
       "      <td>https://en.wikipedia.org/wiki/102_Dalmatians</td>\n",
       "      <td>2000</td>\n",
       "      <td>Kevin Lima</td>\n",
       "      <td>Glenn Close, Gérard Depardieu, Alice Evans</td>\n",
       "      <td>Comedy, family</td>\n",
       "    </tr>\n",
       "    <tr>\n",
       "      <th>1</th>\n",
       "      <td>28 Days</td>\n",
       "      <td>https://en.wikipedia.org/wiki/28_Days_(film)</td>\n",
       "      <td>2000</td>\n",
       "      <td>Betty Thomas</td>\n",
       "      <td>Sandra Bullock, Viggo Mortensen</td>\n",
       "      <td>Drama</td>\n",
       "    </tr>\n",
       "    <tr>\n",
       "      <th>2</th>\n",
       "      <td>3 Strikes</td>\n",
       "      <td>https://en.wikipedia.org/wiki/3_Strikes_(film)</td>\n",
       "      <td>2000</td>\n",
       "      <td>DJ Pooh</td>\n",
       "      <td>Brian Hooks, N'Bushe Wright</td>\n",
       "      <td>Comedy</td>\n",
       "    </tr>\n",
       "    <tr>\n",
       "      <th>3</th>\n",
       "      <td>The 6th Day</td>\n",
       "      <td>https://en.wikipedia.org/wiki/The_6th_Day</td>\n",
       "      <td>2000</td>\n",
       "      <td>Roger Spottiswoode</td>\n",
       "      <td>Arnold Schwarzenegger, Robert Duvall</td>\n",
       "      <td>Science fiction</td>\n",
       "    </tr>\n",
       "    <tr>\n",
       "      <th>4</th>\n",
       "      <td>Across the Line</td>\n",
       "      <td>https://en.wikipedia.org/wiki/Across_the_Line_...</td>\n",
       "      <td>2000</td>\n",
       "      <td>Martin Spottl</td>\n",
       "      <td>Brad Johnson, Adrienne Barbeau, Brian Bloom</td>\n",
       "      <td>Thriller</td>\n",
       "    </tr>\n",
       "  </tbody>\n",
       "</table>\n",
       "</div>"
      ],
      "text/plain": [
       "              Movie                                                URL  Year  \\\n",
       "0    102 Dalmatians       https://en.wikipedia.org/wiki/102_Dalmatians  2000   \n",
       "1           28 Days       https://en.wikipedia.org/wiki/28_Days_(film)  2000   \n",
       "2         3 Strikes     https://en.wikipedia.org/wiki/3_Strikes_(film)  2000   \n",
       "3       The 6th Day          https://en.wikipedia.org/wiki/The_6th_Day  2000   \n",
       "4   Across the Line  https://en.wikipedia.org/wiki/Across_the_Line_...  2000   \n",
       "\n",
       "             Director                                         Cast  \\\n",
       "0          Kevin Lima   Glenn Close, Gérard Depardieu, Alice Evans   \n",
       "1        Betty Thomas              Sandra Bullock, Viggo Mortensen   \n",
       "2             DJ Pooh                  Brian Hooks, N'Bushe Wright   \n",
       "3  Roger Spottiswoode         Arnold Schwarzenegger, Robert Duvall   \n",
       "4       Martin Spottl  Brad Johnson, Adrienne Barbeau, Brian Bloom   \n",
       "\n",
       "             Genre  \n",
       "0   Comedy, family  \n",
       "1            Drama  \n",
       "2           Comedy  \n",
       "3  Science fiction  \n",
       "4         Thriller  "
      ]
     },
     "metadata": {},
     "output_type": "display_data"
    },
    {
     "data": {
      "text/html": [
       "<div>\n",
       "<style>\n",
       "    .dataframe thead tr:only-child th {\n",
       "        text-align: right;\n",
       "    }\n",
       "\n",
       "    .dataframe thead th {\n",
       "        text-align: left;\n",
       "    }\n",
       "\n",
       "    .dataframe tbody tr th {\n",
       "        vertical-align: top;\n",
       "    }\n",
       "</style>\n",
       "<table border=\"1\" class=\"dataframe\">\n",
       "  <thead>\n",
       "    <tr style=\"text-align: right;\">\n",
       "      <th></th>\n",
       "      <th>Movie</th>\n",
       "      <th>URL</th>\n",
       "      <th>Year</th>\n",
       "      <th>Director</th>\n",
       "      <th>Cast</th>\n",
       "      <th>Genre</th>\n",
       "    </tr>\n",
       "  </thead>\n",
       "  <tbody>\n",
       "    <tr>\n",
       "      <th>4040</th>\n",
       "      <td>Inferno</td>\n",
       "      <td>https://en.wikipedia.org/wiki/Inferno_(2016_film)</td>\n",
       "      <td>2016</td>\n",
       "      <td>Ron Howard</td>\n",
       "      <td>NaN</td>\n",
       "      <td>NaN</td>\n",
       "    </tr>\n",
       "    <tr>\n",
       "      <th>4041</th>\n",
       "      <td>Friend Request</td>\n",
       "      <td>https://en.wikipedia.org/wiki/Friend_Request</td>\n",
       "      <td>2016</td>\n",
       "      <td>Simon Verhoeven</td>\n",
       "      <td>Alycia Debnam-Carey</td>\n",
       "      <td>Horror</td>\n",
       "    </tr>\n",
       "    <tr>\n",
       "      <th>4042</th>\n",
       "      <td>Rogue One: A Star Wars Story (film)</td>\n",
       "      <td>https://en.wikipedia.org/wiki/Rogue_One</td>\n",
       "      <td>2016</td>\n",
       "      <td>Felicity Jones</td>\n",
       "      <td>Diego Luna</td>\n",
       "      <td>Sci-Fi</td>\n",
       "    </tr>\n",
       "    <tr>\n",
       "      <th>4043</th>\n",
       "      <td>The Founder</td>\n",
       "      <td>https://en.wikipedia.org/wiki/The_Founder_(film)</td>\n",
       "      <td>2016</td>\n",
       "      <td>John Lee Hancock</td>\n",
       "      <td>Michael Keaton</td>\n",
       "      <td>NaN</td>\n",
       "    </tr>\n",
       "    <tr>\n",
       "      <th>4044</th>\n",
       "      <td>Rings</td>\n",
       "      <td>https://en.wikipedia.org/wiki/Rings_(2016_film)</td>\n",
       "      <td>2016</td>\n",
       "      <td>F. Javier Gutiérrez</td>\n",
       "      <td>NaN</td>\n",
       "      <td>NaN</td>\n",
       "    </tr>\n",
       "  </tbody>\n",
       "</table>\n",
       "</div>"
      ],
      "text/plain": [
       "                                    Movie  \\\n",
       "4040                              Inferno   \n",
       "4041                       Friend Request   \n",
       "4042  Rogue One: A Star Wars Story (film)   \n",
       "4043                          The Founder   \n",
       "4044                                Rings   \n",
       "\n",
       "                                                    URL  Year  \\\n",
       "4040  https://en.wikipedia.org/wiki/Inferno_(2016_film)  2016   \n",
       "4041       https://en.wikipedia.org/wiki/Friend_Request  2016   \n",
       "4042            https://en.wikipedia.org/wiki/Rogue_One  2016   \n",
       "4043   https://en.wikipedia.org/wiki/The_Founder_(film)  2016   \n",
       "4044    https://en.wikipedia.org/wiki/Rings_(2016_film)  2016   \n",
       "\n",
       "                 Director                 Cast   Genre  \n",
       "4040           Ron Howard                  NaN     NaN  \n",
       "4041      Simon Verhoeven  Alycia Debnam-Carey  Horror  \n",
       "4042       Felicity Jones           Diego Luna  Sci-Fi  \n",
       "4043     John Lee Hancock       Michael Keaton     NaN  \n",
       "4044  F. Javier Gutiérrez                  NaN     NaN  "
      ]
     },
     "metadata": {},
     "output_type": "display_data"
    },
    {
     "data": {
      "text/plain": [
       "(4045, 6)"
      ]
     },
     "execution_count": 11,
     "metadata": {},
     "output_type": "execute_result"
    }
   ],
   "source": [
    "URL = pd.read_csv(\"URL.csv\")\n",
    "\n",
    "display(URL.head())\n",
    "display(URL.tail())\n",
    "\n",
    "URL.shape"
   ]
  },
  {
   "cell_type": "markdown",
   "metadata": {
    "collapsed": true
   },
   "source": [
    "There are 4045 movies that have to be scraped from Wikipedia. Let us do this as batches. Our goal is to scrape the image of the movie (if exists), along with the plot and initial introduction texts."
   ]
  },
  {
   "cell_type": "code",
   "execution_count": 12,
   "metadata": {
    "collapsed": true
   },
   "outputs": [],
   "source": [
    "for y in list(range(2000,2001)):\n",
    "    url = \"https://en.wikipedia.org/wiki/Rings_(2016_film)\"\n",
    "    html = urlopen(url)\n",
    "    time.sleep(3)\n",
    "    bs = BeautifulSoup(html)\n",
    "    \n"
   ]
  },
  {
   "cell_type": "code",
   "execution_count": 24,
   "metadata": {},
   "outputs": [
    {
     "name": "stdout",
     "output_type": "stream",
     "text": [
      "Rings is a 2017 American supernatural psychological horror film directed by F. Javier Gutiérrez, written by David Loucka, Jacob Aaron Estes and Akiva Goldsman and starring Matilda Lutz, Alex Roe, Johnny Galecki, Vincent D'Onofrio, Aimee Teegarden and Bonnie Morgan. It is the third film in The Ring series and takes place thirteen years after The Ring (2002).\n",
      "Principal photography began on March 23, 2015, in Atlanta. The film was released in the United States on February 3, 2017. Although critical reception was negative, the film was a box office success, grossing $83 million worldwide against its $25 million budget.\n",
      "\n",
      "\n",
      "In 2013, on an airplane bound for Seattle, passenger Carter reveals to Faith that he has watched Samara Morgan’s cursed videotape. Faith tells another passenger Kelly, who reveals she has seen the tape too. She asks Carter if he made a copy and after learning he hasn't, the airplane begins to malfunction as Samara comes for Carter and eventually causes the plane to crash.\n",
      "Two years later, in 2015, college professor Gabriel buys an old VCR once owned by Carter, discovering the videotape inside. Elsewhere, Julia sees her boyfriend Holt off to college, but becomes concerned when he falls out of contact. She is inspired to find him when a panicked girl, Skye, contacts her, asking for Holt’s whereabouts. Julia meets Gabriel and finds a group of people known as \"The Sevens\", who are involved in an experiment involving the cursed video, watching and filming themselves, before passing the task to another person, called a “tail”.\n",
      "Julia recognizes Skye, who takes her to her apartment to have her watch the video, but Holt warns her not to. Julia locks herself in the bathroom as Skye is murdered by Samara, her tail having been late. Holt reveals that he has watched the tape as well and has 12 hours left. Unwilling to let Holt die, Julia watches his copy and when she picks up the phone, she experiences a vision of a door. The phone burns a mark on her hand. Gabriel notices Julia’s copy of the video cannot be copied and is larger than usual. He discovers extra images within the tape and Julia watches the new footage, which features a mysterious woman: she realizes they must cremate Samara's physical remains.\n",
      "Gabriel sends them to the town Sacrament Valley, where Samara was given a burial after the residents of her island refused to accept the remains. He realizes the mark on Julia’s hand is Braille, translates it, and goes to warn them. Julia and Holt find an unmarked tomb, but when they break in, they find it empty. They are caught and taken to a blind man named Burke, who claims Samara’s body was entombed by the local priest but a flood came, leading the priest to bury her in a Potter's field outside town.\n",
      "Heading for the field, Julia and Holt are stopped due to a car crash and learn Gabriel was involved. He tries to warn Julia of his discovery but is fatally electrocuted by a falling utility pole. After experiencing a vision of Samara’s birth mother, Evelyn, Julia and Holt return to town. Julia goes to the church and discovers a hidden chamber beneath the bell tower, finding evidence that Evelyn was imprisoned there whilst pregnant, held in captivity by the priest after being raped before she escaped eight months into the pregnancy.\n",
      "Julia visits Burke and explains her findings. He attacks her, revealing he was not only the priest but Samara’s biological father, and had blinded himself to escape the reach of his daughter’s powers. Julia pushes him down the stairs, temporarily incapacitating him. Holt rushes to Burke's house, where he is knocked unconscious. Julia is drawn to a room in the house where she discovers Samara’s skeleton behind a wall. Burke appears and tries to choke her to death, informing her that she is the twelfth person Samara has sent to her remains; that destroying her remains would unleash an unspeakable evil upon the world, but a swarm of cicadas fly in, summoning Samara through Julia’s phone. Samara removes Burke’s blindness so she can kill him. Holt recovers and rushes to Julia's aid. That night, he and Julia cremate Samara’s corpse and return home.\n",
      "While Julia is in the shower, Holt notices a voicemail from Gabriel, who warns him of the Braille. Holt translates it, discovering it means “rebirth”. In the bathroom, Julia peels away the skin where the mark was, revealing gray skin underneath. She begins to cough up black hair, from which a cicada is born. Holt unsuccessfully tries to disconnect the computer as Julia’s copy of the video is suddenly sent to everyone on her contact list and begins going viral. Julia gazes into the mirror: her reflection is that of Samara's.\n",
      "In 2014, Paramount Pictures announced the initially titled The Ring 3D, with F. Javier Gutiérrez directing.[3] In August 2014, Paramount was in talks with Akiva Goldsman to write a third draft of the screenplay, which had previously been worked on by David Loucka and Jacob Aaron Estes.[4] In November, Gutiérrez posted an Instagram photo that showed that the title of the sequel had been changed to Rings.[5] On January 16, 2015, Matilda Lutz was cast in the lead role.[6] Alex Roe was cast as the male lead on March 20, 2015.[7] Aimee Teegarden joined the cast on March 27, 2015,[8] and Johnny Galecki signed on to star in the film on April 1, 2015, playing Gabriel, a professor who mentors and helps both Holt and Julia.[9]\n",
      "Principal photography on the film began on March 23, 2015, in Atlanta, and wrapped on May 31, 2015.[10] Reshoots took place in July 2016.\n",
      "Post-production began in June 2015 at Paramount Studios[11] and was concluded in November 2016.[12]\n",
      "Paramount Pictures originally set the film for a November 13, 2015, release,[13] but in September 2015, the film was pulled from the schedule,[14] and in October 2015, Paramount rescheduled the release date to April 1, 2016.[15] On February 17, 2016, the film was rescheduled for release on October 28, 2016, to take the place of Paramount's previous October horror release staple, the Paranormal Activity series, which ended in 2015 with Paranormal Activity: The Ghost Dimension.[16] On September 22, 2016, the film was delayed to February 3, 2017, most likely to avoid competition with Ouija: Origin of Evil, leaving the latter as the only horror film that debuted around Halloween 2016 − along with Boo! A Madea Halloween.[17][18]\n",
      "The film's first trailer was released on August 24, 2016. The second trailer was released on January 5, 2017, alongside a new international trailer, containing new footage. In January 2017, Paramount released a prank video where an actress dressed as Samara jumped out of a television to scare unwitting patrons at an electronics store. The video garnered 200 million views in 24 hours on Facebook.[19]\n",
      "Rings was released on digital HD on April 21 and on Blu-ray and DVD on May 2, 2017. The digital HD and Blu-ray releases include behind-the-scenes interviews with the cast & crew, deleted/extended scenes, and an alternate ending.[20]\n",
      "Rings grossed $27.7 million in the United States and Canada and $55.3 million in other territories for a worldwide total of $83.1 million, against a production budget of $25 million.[2]\n",
      "In North America, the film was released alongside The Space Between Us and The Comedian, and is projected to gross $12–14 million from about 3,000 theaters in its opening weekend.[21] It made $800,000 from its Thursday night previews.[22] It went on to open to $13 million, finishing second at the box office behind fellow horror film Split.[23]\n",
      "On Rotten Tomatoes, the film has an approval rating of 6%, based on 95 reviews, with an average rating of 3.2/10, becoming the worst rated film of the trilogy. The site's critical consensus reads, \"Rings may offer ardent fans of the franchise a few threadbare thrills, but for everyone else, it may feel like an endless loop of muddled mythology and rehashed plot points.\"[24] On Metacritic, the film has a score of 25 out of 100, based on 23 critics, indicating \"overwhelming dislike\".[25] Audiences polled by CinemaScore gave the film an average grade of \"C–\" on an A+ to F scale, lower than the B– and C+ earned by its respective predecessors.[26]\n",
      "Alex Gilyadov of IGN gave the film a score 4.5/10, stating that it \"opts for lazy jump scares and a convoluted origins story no one asked for or needed\", though not dismissing that it has \"some chilling scenes and creepy visuals\".[27] Peter Travers of Rolling Stone gave the movie zero stars and called it a \"botch job\" that suffers from \"demo-worthy awfulness in directing, writing and acting\".[28] Peter Sobczynski of RogerEbert.com gave a single star, calling it \"More wearying than frightening\".[29] A.A. Dowd of The A.V. Club commented that the film was a pale imitation of the 2002 American remake in terms of visuals and plot structure. He also dismissed the film's characters as \"bland of nothings\", citing their lack of development in the story.[30]\n",
      "On the positive side, some critics applauded the film out of the US. Mike McCahill of The Guardian commented that the film \"smoothly reinvents the wheel\" and \"the director has fun with the franchise’s organising visual conceit and handles the setpieces with quiet aplomb\", pointing that \"the admirably loopy finale, involving blind Vincent d’Onofrio’s swarming army of cicadas, is worthy of one of the better Exorcist sequels\".[31] Javier Jimenez Montoya of Vavel also praised the film stating that \"it's a step forward in the horror genre\" and applauded \"its strong, surprising ending\".[32]\n",
      "The negative critical reception in the US, along with its lower-than-expected domestic box office intake, was partially blamed by some critics and fans for the cancellation of Paramount's newest installment of the Friday the 13th franchise.[33]\n",
      "Speaking at CinemaCon, Paramount Vice Chairman Rob Moore said that should the film prove successful, more sequels could recur annually, taking the place of Paramount's Paranormal Activity series.[34] These plans were left in doubt following Moore's departure from the company.[35] In a post-release interview, Moore's successor, Megan Colligan, said that \"time will tell\" if another sequel is on the cards.[36]\n"
     ]
    }
   ],
   "source": [
    "p = bs.find_all(\"p\")\n",
    "for i in p:\n",
    "    print(i.getText())"
   ]
  },
  {
   "cell_type": "code",
   "execution_count": 32,
   "metadata": {},
   "outputs": [
    {
     "name": "stdout",
     "output_type": "stream",
     "text": [
      "Rings is a 2017 American supernatural psychological horror film directed by F. Javier Gutiérrez, written by David Loucka, Jacob Aaron Estes and Akiva Goldsman and starring Matilda Lutz, Alex Roe, Johnny Galecki, Vincent D'Onofrio, Aimee Teegarden and Bonnie Morgan. It is the third film in The Ring series and takes place thirteen years after The Ring (2002).\n"
     ]
    }
   ],
   "source": [
    "p = bs.find(\"p\")\n",
    "initial_paragraph = p.getText()\n",
    "print(initial_paragraph)"
   ]
  },
  {
   "cell_type": "code",
   "execution_count": 39,
   "metadata": {},
   "outputs": [
    {
     "data": {
      "text/plain": [
       "'Rings is a 2017 American supernatural psychological horror film directed by F. Javier Gutiérrez, written by David Loucka, Jacob Aaron Estes and Akiva Goldsman and starring Matilda Lutz, Alex Roe, Johnny Galecki, Vincent D\\'Onofrio, Aimee Teegarden and Bonnie Morgan. It is the third film in The Ring series and takes place thirteen years after The Ring (2002).In 2013, on an airplane bound for Seattle, passenger Carter reveals to Faith that he has watched Samara Morgan’s cursed videotape. Faith tells another passenger Kelly, who reveals she has seen the tape too. She asks Carter if he made a copy and after learning he hasn\\'t, the airplane begins to malfunction as Samara comes for Carter and eventually causes the plane to crash.Two years later, in 2015, college professor Gabriel buys an old VCR once owned by Carter, discovering the videotape inside. Elsewhere, Julia sees her boyfriend Holt off to college, but becomes concerned when he falls out of contact. She is inspired to find him when a panicked girl, Skye, contacts her, asking for Holt’s whereabouts. Julia meets Gabriel and finds a group of people known as \"The Sevens\", who are involved in an experiment involving the cursed video, watching and filming themselves, before passing the task to another person, called a “tail”.Julia recognizes Skye, who takes her to her apartment to have her watch the video, but Holt warns her not to. Julia locks herself in the bathroom as Skye is murdered by Samara, her tail having been late. Holt reveals that he has watched the tape as well and has 12 hours left. Unwilling to let Holt die, Julia watches his copy and when she picks up the phone, she experiences a vision of a door. The phone burns a mark on her hand. Gabriel notices Julia’s copy of the video cannot be copied and is larger than usual. He discovers extra images within the tape and Julia watches the new footage, which features a mysterious woman: she realizes they must cremate Samara\\'s physical remains.Gabriel sends them to the town Sacrament Valley, where Samara was given a burial after the residents of her island refused to accept the remains. He realizes the mark on Julia’s hand is Braille, translates it, and goes to warn them. Julia and Holt find an unmarked tomb, but when they break in, they find it empty. They are caught and taken to a blind man named Burke, who claims Samara’s body was entombed by the local priest but a flood came, leading the priest to bury her in a Potter\\'s field outside town.Heading for the field, Julia and Holt are stopped due to a car crash and learn Gabriel was involved. He tries to warn Julia of his discovery but is fatally electrocuted by a falling utility pole. After experiencing a vision of Samara’s birth mother, Evelyn, Julia and Holt return to town. Julia goes to the church and discovers a hidden chamber beneath the bell tower, finding evidence that Evelyn was imprisoned there whilst pregnant, held in captivity by the priest after being raped before she escaped eight months into the pregnancy.Julia visits Burke and explains her findings. He attacks her, revealing he was not only the priest but Samara’s biological father, and had blinded himself to escape the reach of his daughter’s powers. Julia pushes him down the stairs, temporarily incapacitating him. Holt rushes to Burke\\'s house, where he is knocked unconscious. Julia is drawn to a room in the house where she discovers Samara’s skeleton behind a wall. Burke appears and tries to choke her to death, informing her that she is the twelfth person Samara has sent to her remains; that destroying her remains would unleash an unspeakable evil upon the world, but a swarm of cicadas fly in, summoning Samara through Julia’s phone. Samara removes Burke’s blindness so she can kill him. Holt recovers and rushes to Julia\\'s aid. That night, he and Julia cremate Samara’s corpse and return home.While Julia is in the shower, Holt notices a voicemail from Gabriel, who warns him of the Braille. Holt translates it, discovering it means “rebirth”. In the bathroom, Julia peels away the skin where the mark was, revealing gray skin underneath. She begins to cough up black hair, from which a cicada is born. Holt unsuccessfully tries to disconnect the computer as Julia’s copy of the video is suddenly sent to everyone on her contact list and begins going viral. Julia gazes into the mirror: her reflection is that of Samara\\'s.'"
      ]
     },
     "execution_count": 39,
     "metadata": {},
     "output_type": "execute_result"
    }
   ],
   "source": [
    "# collect plot in this list\n",
    "plot = []\n",
    "\n",
    "# find the node with id of \"Plot\"\n",
    "mark = bs.find(id=\"Plot\")\n",
    "\n",
    "# walk through the siblings of the parent (H2) node \n",
    "# until we reach the next H2 node\n",
    "for elt in mark.parent.nextSiblingGenerator():\n",
    "    if elt.name == \"h2\":\n",
    "        break\n",
    "    if hasattr(elt, \"text\"):\n",
    "        plot.append(elt.text)\n",
    "\n",
    "# enjoy\n",
    "plot=\"\".join(plot)\n",
    "text = initial_paragraph + plot\n",
    "text"
   ]
  },
  {
   "cell_type": "code",
   "execution_count": 73,
   "metadata": {},
   "outputs": [
    {
     "name": "stdout",
     "output_type": "stream",
     "text": [
      "//upload.wikimedia.org/wikipedia/en/e/ec/Rings_-_Official_Theatrical_Poster.png\n"
     ]
    }
   ],
   "source": [
    "img=bs.findAll(\"img\",{\"class\":\"thumbborder\"})\n",
    "print(img[0]['src'])"
   ]
  },
  {
   "cell_type": "code",
   "execution_count": 69,
   "metadata": {},
   "outputs": [],
   "source": [
    "img=bs.findAll(\"\",{\"class\":\"image\"})\n",
    "for i in img:\n",
    "    img_URL = \"https://en.wikipedia.org\"+i['href']"
   ]
  },
  {
   "cell_type": "code",
   "execution_count": 75,
   "metadata": {},
   "outputs": [
    {
     "name": "stdout",
     "output_type": "stream",
     "text": [
      "https://upload.wikimedia.org/wikipedia/en/e/ec/Rings_-_Official_Theatrical_Poster.png\n"
     ]
    }
   ],
   "source": [
    "img=bs.findAll(\"img\",{\"class\":\"thumbborder\"})\n",
    "img_URL=\"https:\"+img[0]['src']\n",
    "print(img_URL)"
   ]
  },
  {
   "cell_type": "code",
   "execution_count": 85,
   "metadata": {},
   "outputs": [],
   "source": [
    "import urllib\n",
    "import os\n",
    "os.chdir(\"./images\")\n",
    "#ignore = urllib.request.urlretrieve(img_URL,os.path.basename(\"./images/\"+img_URL))\n",
    "ignore = urllib.request.urlretrieve(img_URL,os.path.basename(img_URL))\n",
    "os.chdir(\"..\")"
   ]
  },
  {
   "cell_type": "code",
   "execution_count": null,
   "metadata": {
    "collapsed": true
   },
   "outputs": [],
   "source": []
  }
 ],
 "metadata": {
  "kernelspec": {
   "display_name": "Python 3",
   "language": "python",
   "name": "python3"
  },
  "language_info": {
   "codemirror_mode": {
    "name": "ipython",
    "version": 3
   },
   "file_extension": ".py",
   "mimetype": "text/x-python",
   "name": "python",
   "nbconvert_exporter": "python",
   "pygments_lexer": "ipython3",
   "version": "3.5.3"
  }
 },
 "nbformat": 4,
 "nbformat_minor": 2
}
