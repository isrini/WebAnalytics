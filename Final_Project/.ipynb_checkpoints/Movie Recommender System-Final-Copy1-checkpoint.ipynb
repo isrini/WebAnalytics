{
 "cells": [
  {
   "cell_type": "markdown",
   "metadata": {},
   "source": [
    "# Movie Recommendation based on Text analytics\n",
    "\n",
    "This document explains a movie recommender system based on movie's text scraped from Wikipedia. "
   ]
  },
  {
   "cell_type": "markdown",
   "metadata": {},
   "source": [
    "## Importing the required packages for the project"
   ]
  },
  {
   "cell_type": "code",
   "execution_count": 1,
   "metadata": {
    "collapsed": true
   },
   "outputs": [],
   "source": [
    "##Import all the required packages\n",
    "import pandas as pd\n",
    "import numpy as np\n",
    "from IPython.display import display # Allows the use of display() for DataFrames\n",
    "import time\n",
    "import pickle #To save the objects that were created using webscraping\n",
    "import pprint\n",
    "from IPython.display import HTML\n",
    "from lxml import html\n",
    "import requests\n",
    "from sklearn.model_selection import train_test_split\n",
    "import warnings\n",
    "warnings.filterwarnings('ignore')\n",
    "from urllib.request import urlopen\n",
    "from bs4 import BeautifulSoup\n",
    "\n",
    "import urllib\n",
    "import os\n",
    "\n",
    "import os\n",
    "import re\n",
    "import nltk\n",
    "import string\n",
    "from collections import Counter\n"
   ]
  },
  {
   "cell_type": "markdown",
   "metadata": {},
   "source": [
    "# Data collection\n",
    "\n",
    "We scraped the text related to movies from Wikipedia using a Python based web robot. The design of this web robot is present at: [will be included later]\n",
    "\n",
    "\n",
    "The data collection is divided into 2 phases:\n",
    "\n",
    "1. In the first phase the web robot has successfully scraped the list of target movie URLs, by iteratively visiting the web site  https://en.wikipedia.org/wiki/List_of_American_films_of_xxxx (where xxxx represent the year. For example, to obtain the list of american movies released in 2000, we have to visit the website https://en.wikipedia.org/wiki/List_of_American_films_of_2000). From each URL the web robot has obtained the list of movie names, movie's Wiki page, cast, director and genre details. We scraped the list of movies for the years 2000-2016. A total of 4045 movies list was obtained. \n",
    "\n",
    "2. In the second phase the web robot has visited all the 4045 URLs, and has successfully downloaded the movies plots from wikipedia. The web robot has run for approximately 7 hours to download 4037 movies text (we purposefully used a delay of 3 seconds between every hit, so that wikipedia is not bombarded with continuous hits). Out of 4045 movies, we obtained text for 4037 movies, since 8 movies do not have any text in wikipedia. Along with text, the web robot has also downloaded the relevant release posters for the movies. However we were able to download 3749 posters, since the remaining posters were not found or not found by the web robot. \n",
    "\n",
    "The output of phase-1 is a comma separated file, with the following details: \n",
    "\n",
    "**Movie** - Movie Name\n",
    "\n",
    "**URL** - Wikipedia web page for the movie\n",
    "\n",
    "**Year** - Year of release\n",
    "\n",
    "**Director** - Director of the movie\n",
    "\n",
    "**Cast** - Cast of the movie\n",
    "\n",
    "**Genre** - Movie's genre\n",
    "\n",
    "**Movie_ID** - Unique key to distinguish each movie"
   ]
  },
  {
   "cell_type": "code",
   "execution_count": 2,
   "metadata": {},
   "outputs": [
    {
     "data": {
      "text/html": [
       "<div>\n",
       "<style>\n",
       "    .dataframe thead tr:only-child th {\n",
       "        text-align: right;\n",
       "    }\n",
       "\n",
       "    .dataframe thead th {\n",
       "        text-align: left;\n",
       "    }\n",
       "\n",
       "    .dataframe tbody tr th {\n",
       "        vertical-align: top;\n",
       "    }\n",
       "</style>\n",
       "<table border=\"1\" class=\"dataframe\">\n",
       "  <thead>\n",
       "    <tr style=\"text-align: right;\">\n",
       "      <th></th>\n",
       "      <th>Movie</th>\n",
       "      <th>URL</th>\n",
       "      <th>Year</th>\n",
       "      <th>Director</th>\n",
       "      <th>Cast</th>\n",
       "      <th>Genre</th>\n",
       "      <th>Movie_ID</th>\n",
       "    </tr>\n",
       "  </thead>\n",
       "  <tbody>\n",
       "    <tr>\n",
       "      <th>0</th>\n",
       "      <td>102 Dalmatians</td>\n",
       "      <td>https://en.wikipedia.org/wiki/102_Dalmatians</td>\n",
       "      <td>2000</td>\n",
       "      <td>Kevin Lima</td>\n",
       "      <td>Glenn Close, Gérard Depardieu, Alice Evans</td>\n",
       "      <td>Comedy, family</td>\n",
       "      <td>1</td>\n",
       "    </tr>\n",
       "    <tr>\n",
       "      <th>1</th>\n",
       "      <td>28 Days</td>\n",
       "      <td>https://en.wikipedia.org/wiki/28_Days_(film)</td>\n",
       "      <td>2000</td>\n",
       "      <td>Betty Thomas</td>\n",
       "      <td>Sandra Bullock, Viggo Mortensen</td>\n",
       "      <td>Drama</td>\n",
       "      <td>2</td>\n",
       "    </tr>\n",
       "    <tr>\n",
       "      <th>2</th>\n",
       "      <td>3 Strikes</td>\n",
       "      <td>https://en.wikipedia.org/wiki/3_Strikes_(film)</td>\n",
       "      <td>2000</td>\n",
       "      <td>DJ Pooh</td>\n",
       "      <td>Brian Hooks, N'Bushe Wright</td>\n",
       "      <td>Comedy</td>\n",
       "      <td>3</td>\n",
       "    </tr>\n",
       "    <tr>\n",
       "      <th>3</th>\n",
       "      <td>The 6th Day</td>\n",
       "      <td>https://en.wikipedia.org/wiki/The_6th_Day</td>\n",
       "      <td>2000</td>\n",
       "      <td>Roger Spottiswoode</td>\n",
       "      <td>Arnold Schwarzenegger, Robert Duvall</td>\n",
       "      <td>Science fiction</td>\n",
       "      <td>4</td>\n",
       "    </tr>\n",
       "    <tr>\n",
       "      <th>4</th>\n",
       "      <td>Across the Line</td>\n",
       "      <td>https://en.wikipedia.org/wiki/Across_the_Line_...</td>\n",
       "      <td>2000</td>\n",
       "      <td>Martin Spottl</td>\n",
       "      <td>Brad Johnson, Adrienne Barbeau, Brian Bloom</td>\n",
       "      <td>Thriller</td>\n",
       "      <td>5</td>\n",
       "    </tr>\n",
       "  </tbody>\n",
       "</table>\n",
       "</div>"
      ],
      "text/plain": [
       "              Movie                                                URL  Year  \\\n",
       "0    102 Dalmatians       https://en.wikipedia.org/wiki/102_Dalmatians  2000   \n",
       "1           28 Days       https://en.wikipedia.org/wiki/28_Days_(film)  2000   \n",
       "2         3 Strikes     https://en.wikipedia.org/wiki/3_Strikes_(film)  2000   \n",
       "3       The 6th Day          https://en.wikipedia.org/wiki/The_6th_Day  2000   \n",
       "4   Across the Line  https://en.wikipedia.org/wiki/Across_the_Line_...  2000   \n",
       "\n",
       "             Director                                         Cast  \\\n",
       "0          Kevin Lima   Glenn Close, Gérard Depardieu, Alice Evans   \n",
       "1        Betty Thomas              Sandra Bullock, Viggo Mortensen   \n",
       "2             DJ Pooh                  Brian Hooks, N'Bushe Wright   \n",
       "3  Roger Spottiswoode         Arnold Schwarzenegger, Robert Duvall   \n",
       "4       Martin Spottl  Brad Johnson, Adrienne Barbeau, Brian Bloom   \n",
       "\n",
       "             Genre  Movie_ID  \n",
       "0   Comedy, family         1  \n",
       "1            Drama         2  \n",
       "2           Comedy         3  \n",
       "3  Science fiction         4  \n",
       "4         Thriller         5  "
      ]
     },
     "metadata": {},
     "output_type": "display_data"
    },
    {
     "name": "stdout",
     "output_type": "stream",
     "text": [
      "(4045, 7)\n"
     ]
    }
   ],
   "source": [
    "URL = pd.read_csv(\"Movies_URL_Latest.csv\")\n",
    "#URL[URL[\"Movie_ID\"] == 899]\n",
    "display(URL.head())\n",
    "print(URL.shape)\n"
   ]
  },
  {
   "cell_type": "markdown",
   "metadata": {},
   "source": [
    "The output of phase-2 is 4037 text files and 3749 image files. The text files were further processed (cleaned by removing unnecessary characters, stop words etc) to create a CSV file, with the following format.\n",
    "\n",
    "**Movie_ID** - Unique ID of the movie\n",
    "\n",
    "**Plot** - Plot of the movie\n",
    "\n",
    "The initial rows of this file is displayed below:"
   ]
  },
  {
   "cell_type": "code",
   "execution_count": 3,
   "metadata": {},
   "outputs": [
    {
     "data": {
      "text/html": [
       "<div>\n",
       "<style>\n",
       "    .dataframe thead tr:only-child th {\n",
       "        text-align: right;\n",
       "    }\n",
       "\n",
       "    .dataframe thead th {\n",
       "        text-align: left;\n",
       "    }\n",
       "\n",
       "    .dataframe tbody tr th {\n",
       "        vertical-align: top;\n",
       "    }\n",
       "</style>\n",
       "<table border=\"1\" class=\"dataframe\">\n",
       "  <thead>\n",
       "    <tr style=\"text-align: right;\">\n",
       "      <th></th>\n",
       "      <th>Movie_ID</th>\n",
       "      <th>Plot</th>\n",
       "    </tr>\n",
       "  </thead>\n",
       "  <tbody>\n",
       "    <tr>\n",
       "      <th>0</th>\n",
       "      <td>1</td>\n",
       "      <td>102 dalmatians 2000 american family comedy fil...</td>\n",
       "    </tr>\n",
       "    <tr>\n",
       "      <th>1</th>\n",
       "      <td>10</td>\n",
       "      <td>american psycho 2000 american black comedy hor...</td>\n",
       "    </tr>\n",
       "    <tr>\n",
       "      <th>2</th>\n",
       "      <td>100</td>\n",
       "      <td>legacy 2000 american documentary film directed...</td>\n",
       "    </tr>\n",
       "    <tr>\n",
       "      <th>3</th>\n",
       "      <td>1000</td>\n",
       "      <td>lemony snicket series unfortunate events 2004 ...</td>\n",
       "    </tr>\n",
       "    <tr>\n",
       "      <th>4</th>\n",
       "      <td>1001</td>\n",
       "      <td>life death peter sellers 2004 british-american...</td>\n",
       "    </tr>\n",
       "  </tbody>\n",
       "</table>\n",
       "</div>"
      ],
      "text/plain": [
       "   Movie_ID                                               Plot\n",
       "0         1  102 dalmatians 2000 american family comedy fil...\n",
       "1        10  american psycho 2000 american black comedy hor...\n",
       "2       100  legacy 2000 american documentary film directed...\n",
       "3      1000  lemony snicket series unfortunate events 2004 ...\n",
       "4      1001  life death peter sellers 2004 british-american..."
      ]
     },
     "execution_count": 3,
     "metadata": {},
     "output_type": "execute_result"
    }
   ],
   "source": [
    "df = pd.read_csv(\"processed_data.csv\")\n",
    "df.head()"
   ]
  },
  {
   "cell_type": "markdown",
   "metadata": {},
   "source": [
    "# Building the recommender\n",
    "\n",
    "## Get the TFIDF scores\n",
    "\n",
    "Using the data frame, we have to get the TFIDF scores for all the words in each of the document."
   ]
  },
  {
   "cell_type": "code",
   "execution_count": 4,
   "metadata": {},
   "outputs": [
    {
     "name": "stdout",
     "output_type": "stream",
     "text": [
      "(4037, 54075)\n"
     ]
    }
   ],
   "source": [
    "from sklearn.feature_extraction.text import TfidfVectorizer\n",
    "tfidf_vectorizer = TfidfVectorizer()\n",
    "tfidf_matrix = tfidf_vectorizer.fit_transform(df[\"Plot\"])\n",
    "print(tfidf_matrix.shape)"
   ]
  },
  {
   "cell_type": "markdown",
   "metadata": {},
   "source": [
    "## Get the cosine similarity measure between each pair of movie"
   ]
  },
  {
   "cell_type": "code",
   "execution_count": 5,
   "metadata": {
    "collapsed": true
   },
   "outputs": [],
   "source": [
    "from sklearn.metrics.pairwise import cosine_similarity\n",
    "cos_sim = cosine_similarity(tfidf_matrix, tfidf_matrix)\n",
    "\n",
    "\n",
    "#Convert cos_sim (a numpy array) to a data frame with rows and columns as movie IDs\n",
    "cos_sim_df = pd.DataFrame(cos_sim,columns=df[\"Movie_ID\"].tolist(),index=df[\"Movie_ID\"].tolist())"
   ]
  },
  {
   "cell_type": "markdown",
   "metadata": {},
   "source": [
    "## Getting recommendations\n",
    "\n",
    "Let us build the required functions to make movie recommendations, given that the user has liked a movie."
   ]
  },
  {
   "cell_type": "code",
   "execution_count": 6,
   "metadata": {},
   "outputs": [],
   "source": [
    "#Get the mapping between available Movie plots and movie IDs\n",
    "Movie_Map=pd.merge(URL[[\"Movie\",\"Movie_ID\"]],df,how='inner',on=[\"Movie_ID\"])[[\"Movie\",\"Movie_ID\"]]\n",
    "\n",
    "def Get_Recommendations(Movie_ID,cos_sim_df):\n",
    "    recommended_idx=np.argpartition(np.array(cos_sim_df[Movie_ID].tolist()), -6)[-6:]\n",
    "    #print(np.array(cos_sim_df[Movie_ID].tolist())[recommended_idx])\n",
    "    Recommended_Movie_IDs = cos_sim_df.columns[recommended_idx].tolist()\n",
    "    #return Recommended_Movie_IDs\n",
    "    return dict(zip(Recommended_Movie_IDs,np.array(cos_sim_df[Movie_ID].tolist())[recommended_idx]))\n",
    "\n",
    "def Get_Available_Images():\n",
    "    \n",
    "    image_files = os.listdir(\"./images\")\n",
    "    #Make sure that we are dealing with movie data files only\n",
    "    image_files = [i for i in image_files if re.search('[1-9]*\\.jpg',i)]\n",
    "    y = list()\n",
    "    for i in image_files:\n",
    "        y.append(int(i.split(\".\")[0]))\n",
    "    return y\n",
    "\n",
    "def Display_Recommendations(Recommended_Movies_Dict,Movie_Map,Source_Movie_ID):\n",
    "    #The following statement will make sure that we sort the movies in the descending order of similarity\n",
    "    Recommended_Movies = pd.DataFrame(sorted(Recommended_Movies_Dict.items(), key=lambda x: -x[1]))[0].tolist()\n",
    "    \n",
    "    #Delete the liked movie from the list\n",
    "    Recommended_Movies = Recommended_Movies[1:]\n",
    "    \n",
    "    #Recommended_Movies=list(Recommended_Movies_Dict.keys())\n",
    "    #Movie_Map[Movie_Map[\"Movie_ID\"].isin(Recommended_Movies)][\"Movie_ID\"].tolist()\n",
    "    Available_Images_List = Get_Available_Images()\n",
    "    Source_Movie_Name = Movie_Map[Movie_Map[\"Movie_ID\"] == Source_Movie_ID][\"Movie\"].tolist()[0]\n",
    "    print(\"Assuming that the user liked {}:\".format(Source_Movie_Name))\n",
    "    \n",
    "    #Recommended_Movies = list(set(Recommended_Movies) - set([Source_Movie_ID]))\n",
    "    \n",
    "    if Source_Movie_ID in Available_Images_List:\n",
    "        #print(\"The user has liked {}\".format(Source_Movie_Name))\n",
    "        display(HTML(\"<table><tr><td><img src='./images/\"+str(Source_Movie_ID)+\".jpg'></td></tr></table>\" \\\n",
    "            ))        \n",
    "        \n",
    "    display_html = \"\"\n",
    "    display_values = \"\"\n",
    "    for i in Recommended_Movies:\n",
    "        if i in Available_Images_List:\n",
    "            display_html = display_html + \"<td><img src='./images/\"+str(i)+\".jpg'></td>\"\n",
    "            display_values = display_values + \"<td> Similarity:\"+str(Recommended_Movies_Dict[i])+\"</td>\"\n",
    "    print(\"The following movies are recommended:\")        \n",
    "    display(HTML(\"<table><tr>\"+display_html+\"</tr><tr>\"+display_values+\"</tr></table>\" \\\n",
    "            ))        \n",
    "    #return display_html            \n",
    "    #Get available images for movies:"
   ]
  },
  {
   "cell_type": "markdown",
   "metadata": {},
   "source": [
    "### Demonstration of the system\n",
    "We will get recommended movies given that the user has liked some movies. The cosine similarity measure is also displayed, along with the movie recommendations. The recommended movies are sorted in the descending order of similarity score. Also the top 5 movies are displayed. At some places you may find less than 5 movies, since we avoided the display of the movie, if an associated image is not available (as the web robot did not download the picture due to unavailability or some other reason):"
   ]
  },
  {
   "cell_type": "code",
   "execution_count": 7,
   "metadata": {},
   "outputs": [
    {
     "name": "stdout",
     "output_type": "stream",
     "text": [
      "Assuming that the user liked X-Men: Apocalypse:\n"
     ]
    },
    {
     "data": {
      "text/html": [
       "<table><tr><td><img src='./images/3974.jpg'></td></tr></table>"
      ],
      "text/plain": [
       "<IPython.core.display.HTML object>"
      ]
     },
     "metadata": {},
     "output_type": "display_data"
    },
    {
     "name": "stdout",
     "output_type": "stream",
     "text": [
      "The following movies are recommended:\n"
     ]
    },
    {
     "data": {
      "text/html": [
       "<table><tr><td><img src='./images/875.jpg'></td><td><img src='./images/2898.jpg'></td><td><img src='./images/211.jpg'></td><td><img src='./images/3086.jpg'></td><td><img src='./images/3649.jpg'></td></tr><tr><td> Similarity:0.268575850171</td><td> Similarity:0.238367317257</td><td> Similarity:0.229481952653</td><td> Similarity:0.221129217079</td><td> Similarity:0.190950502687</td></tr></table>"
      ],
      "text/plain": [
       "<IPython.core.display.HTML object>"
      ]
     },
     "metadata": {},
     "output_type": "display_data"
    }
   ],
   "source": [
    "Recommended_Movies = Get_Recommendations(3974,cos_sim_df)\n",
    "Recommended_Movies\n",
    "Display_Recommendations(Recommended_Movies,Movie_Map,3974)"
   ]
  },
  {
   "cell_type": "code",
   "execution_count": 8,
   "metadata": {},
   "outputs": [
    {
     "name": "stdout",
     "output_type": "stream",
     "text": [
      "Assuming that the user liked  102 Dalmatians:\n"
     ]
    },
    {
     "data": {
      "text/html": [
       "<table><tr><td><img src='./images/1.jpg'></td></tr></table>"
      ],
      "text/plain": [
       "<IPython.core.display.HTML object>"
      ]
     },
     "metadata": {},
     "output_type": "display_data"
    },
    {
     "name": "stdout",
     "output_type": "stream",
     "text": [
      "The following movies are recommended:\n"
     ]
    },
    {
     "data": {
      "text/html": [
       "<table><tr><td><img src='./images/659.jpg'></td><td><img src='./images/3564.jpg'></td><td><img src='./images/2080.jpg'></td><td><img src='./images/1799.jpg'></td><td><img src='./images/2614.jpg'></td></tr><tr><td> Similarity:0.306608854172</td><td> Similarity:0.185453340218</td><td> Similarity:0.175589654586</td><td> Similarity:0.14104740047</td><td> Similarity:0.133580264125</td></tr></table>"
      ],
      "text/plain": [
       "<IPython.core.display.HTML object>"
      ]
     },
     "metadata": {},
     "output_type": "display_data"
    }
   ],
   "source": [
    "Recommended_Movies = Get_Recommendations(1,cos_sim_df)\n",
    "Display_Recommendations(Recommended_Movies,Movie_Map,1)"
   ]
  },
  {
   "cell_type": "code",
   "execution_count": 9,
   "metadata": {},
   "outputs": [
    {
     "name": "stdout",
     "output_type": "stream",
     "text": [
      "Assuming that the user liked Gladiator:\n"
     ]
    },
    {
     "data": {
      "text/html": [
       "<table><tr><td><img src='./images/73.jpg'></td></tr></table>"
      ],
      "text/plain": [
       "<IPython.core.display.HTML object>"
      ]
     },
     "metadata": {},
     "output_type": "display_data"
    },
    {
     "name": "stdout",
     "output_type": "stream",
     "text": [
      "The following movies are recommended:\n"
     ]
    },
    {
     "data": {
      "text/html": [
       "<table><tr><td><img src='./images/2176.jpg'></td><td><img src='./images/3295.jpg'></td><td><img src='./images/2675.jpg'></td><td><img src='./images/2782.jpg'></td><td><img src='./images/2759.jpg'></td></tr><tr><td> Similarity:0.0945836626403</td><td> Similarity:0.0631114505259</td><td> Similarity:0.0631047930739</td><td> Similarity:0.0514068891896</td><td> Similarity:0.0469541381883</td></tr></table>"
      ],
      "text/plain": [
       "<IPython.core.display.HTML object>"
      ]
     },
     "metadata": {},
     "output_type": "display_data"
    }
   ],
   "source": [
    "\n",
    "Recommended_Movies = Get_Recommendations(73,cos_sim_df)\n",
    "Display_Recommendations(Recommended_Movies,Movie_Map,73)\n"
   ]
  },
  {
   "cell_type": "code",
   "execution_count": 10,
   "metadata": {},
   "outputs": [
    {
     "name": "stdout",
     "output_type": "stream",
     "text": [
      "Assuming that the user liked London Has Fallen:\n"
     ]
    },
    {
     "data": {
      "text/html": [
       "<table><tr><td><img src='./images/3934.jpg'></td></tr></table>"
      ],
      "text/plain": [
       "<IPython.core.display.HTML object>"
      ]
     },
     "metadata": {},
     "output_type": "display_data"
    },
    {
     "name": "stdout",
     "output_type": "stream",
     "text": [
      "The following movies are recommended:\n"
     ]
    },
    {
     "data": {
      "text/html": [
       "<table><tr><td><img src='./images/3446.jpg'></td><td><img src='./images/1081.jpg'></td><td><img src='./images/644.jpg'></td><td><img src='./images/771.jpg'></td><td><img src='./images/1163.jpg'></td></tr><tr><td> Similarity:0.543469898779</td><td> Similarity:0.301055015997</td><td> Similarity:0.175642267065</td><td> Similarity:0.132846901922</td><td> Similarity:0.107062246397</td></tr></table>"
      ],
      "text/plain": [
       "<IPython.core.display.HTML object>"
      ]
     },
     "metadata": {},
     "output_type": "display_data"
    }
   ],
   "source": [
    "Recommended_Movies = Get_Recommendations(3934,cos_sim_df)\n",
    "Display_Recommendations(Recommended_Movies,Movie_Map,3934)\n"
   ]
  },
  {
   "cell_type": "code",
   "execution_count": 11,
   "metadata": {},
   "outputs": [
    {
     "name": "stdout",
     "output_type": "stream",
     "text": [
      "Assuming that the user liked Minions:\n"
     ]
    },
    {
     "data": {
      "text/html": [
       "<table><tr><td><img src='./images/3883.jpg'></td></tr></table>"
      ],
      "text/plain": [
       "<IPython.core.display.HTML object>"
      ]
     },
     "metadata": {},
     "output_type": "display_data"
    },
    {
     "name": "stdout",
     "output_type": "stream",
     "text": [
      "The following movies are recommended:\n"
     ]
    },
    {
     "data": {
      "text/html": [
       "<table><tr><td><img src='./images/2269.jpg'></td><td><img src='./images/360.jpg'></td><td><img src='./images/2614.jpg'></td><td><img src='./images/428.jpg'></td><td><img src='./images/851.jpg'></td></tr><tr><td> Similarity:0.237926883929</td><td> Similarity:0.160253052959</td><td> Similarity:0.149015292148</td><td> Similarity:0.12885679193</td><td> Similarity:0.123991901771</td></tr></table>"
      ],
      "text/plain": [
       "<IPython.core.display.HTML object>"
      ]
     },
     "metadata": {},
     "output_type": "display_data"
    }
   ],
   "source": [
    "Recommended_Movies = Get_Recommendations(3883,cos_sim_df)\n",
    "Display_Recommendations(Recommended_Movies,Movie_Map,3883)\n"
   ]
  },
  {
   "cell_type": "code",
   "execution_count": 12,
   "metadata": {},
   "outputs": [
    {
     "name": "stdout",
     "output_type": "stream",
     "text": [
      "Assuming that the user liked Paranormal Activity 2:\n"
     ]
    },
    {
     "data": {
      "text/html": [
       "<table><tr><td><img src='./images/2635.jpg'></td></tr></table>"
      ],
      "text/plain": [
       "<IPython.core.display.HTML object>"
      ]
     },
     "metadata": {},
     "output_type": "display_data"
    },
    {
     "name": "stdout",
     "output_type": "stream",
     "text": [
      "The following movies are recommended:\n"
     ]
    },
    {
     "data": {
      "text/html": [
       "<table><tr><td><img src='./images/2836.jpg'></td><td><img src='./images/2036.jpg'></td><td><img src='./images/238.jpg'></td><td><img src='./images/3119.jpg'></td><td><img src='./images/344.jpg'></td></tr><tr><td> Similarity:0.526099643661</td><td> Similarity:0.242463753141</td><td> Similarity:0.234107937331</td><td> Similarity:0.189501563318</td><td> Similarity:0.182762222917</td></tr></table>"
      ],
      "text/plain": [
       "<IPython.core.display.HTML object>"
      ]
     },
     "metadata": {},
     "output_type": "display_data"
    }
   ],
   "source": [
    "Recommended_Movies = Get_Recommendations(2635,cos_sim_df)\n",
    "Display_Recommendations(Recommended_Movies,Movie_Map,2635)"
   ]
  },
  {
   "cell_type": "code",
   "execution_count": 13,
   "metadata": {},
   "outputs": [
    {
     "name": "stdout",
     "output_type": "stream",
     "text": [
      "Assuming that the user liked Captain America: The First Avenger:\n"
     ]
    },
    {
     "data": {
      "text/html": [
       "<table><tr><td><img src='./images/2731.jpg'></td></tr></table>"
      ],
      "text/plain": [
       "<IPython.core.display.HTML object>"
      ]
     },
     "metadata": {},
     "output_type": "display_data"
    },
    {
     "name": "stdout",
     "output_type": "stream",
     "text": [
      "The following movies are recommended:\n"
     ]
    },
    {
     "data": {
      "text/html": [
       "<table><tr><td><img src='./images/2933.jpg'></td><td><img src='./images/437.jpg'></td><td><img src='./images/3619.jpg'></td></tr><tr><td> Similarity:0.298077735765</td><td> Similarity:0.212774310509</td><td> Similarity:0.178031538704</td></tr></table>"
      ],
      "text/plain": [
       "<IPython.core.display.HTML object>"
      ]
     },
     "metadata": {},
     "output_type": "display_data"
    }
   ],
   "source": [
    "Recommended_Movies = Get_Recommendations(2731,cos_sim_df)\n",
    "Display_Recommendations(Recommended_Movies,Movie_Map,2731)"
   ]
  },
  {
   "cell_type": "code",
   "execution_count": 14,
   "metadata": {},
   "outputs": [
    {
     "name": "stdout",
     "output_type": "stream",
     "text": [
      "Assuming that the user liked Insidious:\n"
     ]
    },
    {
     "data": {
      "text/html": [
       "<table><tr><td><img src='./images/2800.jpg'></td></tr></table>"
      ],
      "text/plain": [
       "<IPython.core.display.HTML object>"
      ]
     },
     "metadata": {},
     "output_type": "display_data"
    },
    {
     "name": "stdout",
     "output_type": "stream",
     "text": [
      "The following movies are recommended:\n"
     ]
    },
    {
     "data": {
      "text/html": [
       "<table><tr><td><img src='./images/3376.jpg'></td><td><img src='./images/3874.jpg'></td><td><img src='./images/3839.jpg'></td><td><img src='./images/2679.jpg'></td><td><img src='./images/2884.jpg'></td></tr><tr><td> Similarity:0.681227267623</td><td> Similarity:0.286212737551</td><td> Similarity:0.241297598608</td><td> Similarity:0.230389225785</td><td> Similarity:0.194715624972</td></tr></table>"
      ],
      "text/plain": [
       "<IPython.core.display.HTML object>"
      ]
     },
     "metadata": {},
     "output_type": "display_data"
    }
   ],
   "source": [
    "Recommended_Movies = Get_Recommendations(2800,cos_sim_df)\n",
    "Display_Recommendations(Recommended_Movies,Movie_Map,2800)"
   ]
  },
  {
   "cell_type": "code",
   "execution_count": 15,
   "metadata": {},
   "outputs": [
    {
     "name": "stdout",
     "output_type": "stream",
     "text": [
      "Assuming that the user liked Kung Fu Panda 2:\n"
     ]
    },
    {
     "data": {
      "text/html": [
       "<table><tr><td><img src='./images/2810.jpg'></td></tr></table>"
      ],
      "text/plain": [
       "<IPython.core.display.HTML object>"
      ]
     },
     "metadata": {},
     "output_type": "display_data"
    },
    {
     "name": "stdout",
     "output_type": "stream",
     "text": [
      "The following movies are recommended:\n"
     ]
    },
    {
     "data": {
      "text/html": [
       "<table><tr><td><img src='./images/3917.jpg'></td><td><img src='./images/2155.jpg'></td><td><img src='./images/154.jpg'></td><td><img src='./images/1687.jpg'></td><td><img src='./images/1859.jpg'></td></tr><tr><td> Similarity:0.477916709463</td><td> Similarity:0.472015971221</td><td> Similarity:0.234033843151</td><td> Similarity:0.221169773384</td><td> Similarity:0.0752134805139</td></tr></table>"
      ],
      "text/plain": [
       "<IPython.core.display.HTML object>"
      ]
     },
     "metadata": {},
     "output_type": "display_data"
    }
   ],
   "source": [
    "Recommended_Movies = Get_Recommendations(2810,cos_sim_df)\n",
    "Display_Recommendations(Recommended_Movies,Movie_Map,2810)"
   ]
  },
  {
   "cell_type": "code",
   "execution_count": 16,
   "metadata": {},
   "outputs": [
    {
     "name": "stdout",
     "output_type": "stream",
     "text": [
      "Assuming that the user liked Saw VII:\n"
     ]
    },
    {
     "data": {
      "text/html": [
       "<table><tr><td><img src='./images/2656.jpg'></td></tr></table>"
      ],
      "text/plain": [
       "<IPython.core.display.HTML object>"
      ]
     },
     "metadata": {},
     "output_type": "display_data"
    },
    {
     "name": "stdout",
     "output_type": "stream",
     "text": [
      "The following movies are recommended:\n"
     ]
    },
    {
     "data": {
      "text/html": [
       "<table><tr><td><img src='./images/2448.jpg'></td><td><img src='./images/2213.jpg'></td><td><img src='./images/2000.jpg'></td><td><img src='./images/177.jpg'></td><td><img src='./images/3064.jpg'></td></tr><tr><td> Similarity:0.299457229304</td><td> Similarity:0.263637194848</td><td> Similarity:0.214968641642</td><td> Similarity:0.198831678817</td><td> Similarity:0.180022259236</td></tr></table>"
      ],
      "text/plain": [
       "<IPython.core.display.HTML object>"
      ]
     },
     "metadata": {},
     "output_type": "display_data"
    }
   ],
   "source": [
    "Recommended_Movies = Get_Recommendations(2656,cos_sim_df)\n",
    "Display_Recommendations(Recommended_Movies,Movie_Map,2656)"
   ]
  },
  {
   "cell_type": "code",
   "execution_count": 17,
   "metadata": {},
   "outputs": [
    {
     "name": "stdout",
     "output_type": "stream",
     "text": [
      "Assuming that the user liked Cars 2:\n"
     ]
    },
    {
     "data": {
      "text/html": [
       "<table><tr><td><img src='./images/2733.jpg'></td></tr></table>"
      ],
      "text/plain": [
       "<IPython.core.display.HTML object>"
      ]
     },
     "metadata": {},
     "output_type": "display_data"
    },
    {
     "name": "stdout",
     "output_type": "stream",
     "text": [
      "The following movies are recommended:\n"
     ]
    },
    {
     "data": {
      "text/html": [
       "<table><tr><td><img src='./images/1413.jpg'></td><td><img src='./images/1942.jpg'></td><td><img src='./images/2119.jpg'></td><td><img src='./images/3016.jpg'></td><td><img src='./images/3227.jpg'></td></tr><tr><td> Similarity:0.38027263614</td><td> Similarity:0.295401592436</td><td> Similarity:0.148393064492</td><td> Similarity:0.109960631703</td><td> Similarity:0.085337820135</td></tr></table>"
      ],
      "text/plain": [
       "<IPython.core.display.HTML object>"
      ]
     },
     "metadata": {},
     "output_type": "display_data"
    }
   ],
   "source": [
    "Recommended_Movies = Get_Recommendations(2733,cos_sim_df)\n",
    "Display_Recommendations(Recommended_Movies,Movie_Map,2733)"
   ]
  },
  {
   "cell_type": "code",
   "execution_count": 18,
   "metadata": {},
   "outputs": [
    {
     "name": "stdout",
     "output_type": "stream",
     "text": [
      "Assuming that the user liked Mission: Impossible – Ghost Protocol:\n"
     ]
    },
    {
     "data": {
      "text/html": [
       "<table><tr><td><img src='./images/2825.jpg'></td></tr></table>"
      ],
      "text/plain": [
       "<IPython.core.display.HTML object>"
      ]
     },
     "metadata": {},
     "output_type": "display_data"
    },
    {
     "name": "stdout",
     "output_type": "stream",
     "text": [
      "The following movies are recommended:\n"
     ]
    },
    {
     "data": {
      "text/html": [
       "<table><tr><td><img src='./images/1613.jpg'></td><td><img src='./images/2544.jpg'></td><td><img src='./images/1258.jpg'></td><td><img src='./images/3701.jpg'></td><td><img src='./images/119.jpg'></td></tr><tr><td> Similarity:0.284669659951</td><td> Similarity:0.229786262283</td><td> Similarity:0.197036840156</td><td> Similarity:0.196086677744</td><td> Similarity:0.184644692921</td></tr></table>"
      ],
      "text/plain": [
       "<IPython.core.display.HTML object>"
      ]
     },
     "metadata": {},
     "output_type": "display_data"
    }
   ],
   "source": [
    "Recommended_Movies = Get_Recommendations(2825,cos_sim_df)\n",
    "Display_Recommendations(Recommended_Movies,Movie_Map,2825)"
   ]
  },
  {
   "cell_type": "code",
   "execution_count": 19,
   "metadata": {},
   "outputs": [
    {
     "name": "stdout",
     "output_type": "stream",
     "text": [
      "Assuming that the user liked Titanic 3D:\n"
     ]
    },
    {
     "data": {
      "text/html": [
       "<table><tr><td><img src='./images/3176.jpg'></td></tr></table>"
      ],
      "text/plain": [
       "<IPython.core.display.HTML object>"
      ]
     },
     "metadata": {},
     "output_type": "display_data"
    },
    {
     "name": "stdout",
     "output_type": "stream",
     "text": [
      "The following movies are recommended:\n"
     ]
    },
    {
     "data": {
      "text/html": [
       "<table><tr><td><img src='./images/1125.jpg'></td><td><img src='./images/2566.jpg'></td><td><img src='./images/2401.jpg'></td><td><img src='./images/1118.jpg'></td><td><img src='./images/2743.jpg'></td></tr><tr><td> Similarity:0.292896298323</td><td> Similarity:0.171477544925</td><td> Similarity:0.15832825584</td><td> Similarity:0.156473330037</td><td> Similarity:0.149228285278</td></tr></table>"
      ],
      "text/plain": [
       "<IPython.core.display.HTML object>"
      ]
     },
     "metadata": {},
     "output_type": "display_data"
    }
   ],
   "source": [
    "Recommended_Movies = Get_Recommendations(3176,cos_sim_df)\n",
    "Display_Recommendations(Recommended_Movies,Movie_Map,3176)"
   ]
  },
  {
   "cell_type": "code",
   "execution_count": 20,
   "metadata": {},
   "outputs": [
    {
     "name": "stdout",
     "output_type": "stream",
     "text": [
      "Assuming that the user liked Gravity:\n"
     ]
    },
    {
     "data": {
      "text/html": [
       "<table><tr><td><img src='./images/3331.jpg'></td></tr></table>"
      ],
      "text/plain": [
       "<IPython.core.display.HTML object>"
      ]
     },
     "metadata": {},
     "output_type": "display_data"
    },
    {
     "name": "stdout",
     "output_type": "stream",
     "text": [
      "The following movies are recommended:\n"
     ]
    },
    {
     "data": {
      "text/html": [
       "<table><tr><td><img src='./images/342.jpg'></td><td><img src='./images/3983.jpg'></td><td><img src='./images/175.jpg'></td><td><img src='./images/1337.jpg'></td><td><img src='./images/2579.jpg'></td></tr><tr><td> Similarity:0.276681226339</td><td> Similarity:0.204091148072</td><td> Similarity:0.182912442585</td><td> Similarity:0.179175945546</td><td> Similarity:0.143045330245</td></tr></table>"
      ],
      "text/plain": [
       "<IPython.core.display.HTML object>"
      ]
     },
     "metadata": {},
     "output_type": "display_data"
    }
   ],
   "source": [
    "Recommended_Movies = Get_Recommendations(3331,cos_sim_df)\n",
    "Display_Recommendations(Recommended_Movies,Movie_Map,3331)"
   ]
  },
  {
   "cell_type": "code",
   "execution_count": 21,
   "metadata": {},
   "outputs": [
    {
     "name": "stdout",
     "output_type": "stream",
     "text": [
      "Assuming that the user liked The Martian:\n"
     ]
    },
    {
     "data": {
      "text/html": [
       "<table><tr><td><img src='./images/3893.jpg'></td></tr></table>"
      ],
      "text/plain": [
       "<IPython.core.display.HTML object>"
      ]
     },
     "metadata": {},
     "output_type": "display_data"
    },
    {
     "name": "stdout",
     "output_type": "stream",
     "text": [
      "The following movies are recommended:\n"
     ]
    },
    {
     "data": {
      "text/html": [
       "<table><tr><td><img src='./images/118.jpg'></td><td><img src='./images/146.jpg'></td><td><img src='./images/175.jpg'></td><td><img src='./images/3331.jpg'></td><td><img src='./images/1375.jpg'></td></tr><tr><td> Similarity:0.175169934667</td><td> Similarity:0.152099978063</td><td> Similarity:0.0842259518701</td><td> Similarity:0.0823599248437</td><td> Similarity:0.081500883778</td></tr></table>"
      ],
      "text/plain": [
       "<IPython.core.display.HTML object>"
      ]
     },
     "metadata": {},
     "output_type": "display_data"
    }
   ],
   "source": [
    "Recommended_Movies = Get_Recommendations(3893,cos_sim_df)\n",
    "Display_Recommendations(Recommended_Movies,Movie_Map,3893)"
   ]
  },
  {
   "cell_type": "code",
   "execution_count": 23,
   "metadata": {},
   "outputs": [
    {
     "name": "stdout",
     "output_type": "stream",
     "text": [
      "Assuming that the user liked Sully:\n"
     ]
    },
    {
     "data": {
      "text/html": [
       "<table><tr><td><img src='./images/4015.jpg'></td></tr></table>"
      ],
      "text/plain": [
       "<IPython.core.display.HTML object>"
      ]
     },
     "metadata": {},
     "output_type": "display_data"
    },
    {
     "name": "stdout",
     "output_type": "stream",
     "text": [
      "The following movies are recommended:\n"
     ]
    },
    {
     "data": {
      "text/html": [
       "<table><tr><td><img src='./images/1698.jpg'></td><td><img src='./images/1737.jpg'></td><td><img src='./images/1066.jpg'></td><td><img src='./images/3049.jpg'></td><td><img src='./images/1183.jpg'></td></tr><tr><td> Similarity:0.104853207218</td><td> Similarity:0.0937654970696</td><td> Similarity:0.091478167585</td><td> Similarity:0.0818109615473</td><td> Similarity:0.0676232709732</td></tr></table>"
      ],
      "text/plain": [
       "<IPython.core.display.HTML object>"
      ]
     },
     "metadata": {},
     "output_type": "display_data"
    }
   ],
   "source": [
    "Recommended_Movies = Get_Recommendations(4015,cos_sim_df)\n",
    "Display_Recommendations(Recommended_Movies,Movie_Map,4015)"
   ]
  },
  {
   "cell_type": "code",
   "execution_count": 27,
   "metadata": {},
   "outputs": [
    {
     "name": "stdout",
     "output_type": "stream",
     "text": [
      "Assuming that the user liked The Matrix Reloaded:\n"
     ]
    },
    {
     "data": {
      "text/html": [
       "<table><tr><td><img src='./images/795.jpg'></td></tr></table>"
      ],
      "text/plain": [
       "<IPython.core.display.HTML object>"
      ]
     },
     "metadata": {},
     "output_type": "display_data"
    },
    {
     "name": "stdout",
     "output_type": "stream",
     "text": [
      "The following movies are recommended:\n"
     ]
    },
    {
     "data": {
      "text/html": [
       "<table><tr><td><img src='./images/796.jpg'></td><td><img src='./images/2471.jpg'></td><td><img src='./images/3006.jpg'></td><td><img src='./images/2592.jpg'></td></tr><tr><td> Similarity:0.711975340685</td><td> Similarity:0.0977197774246</td><td> Similarity:0.0703271071526</td><td> Similarity:0.0681079448531</td></tr></table>"
      ],
      "text/plain": [
       "<IPython.core.display.HTML object>"
      ]
     },
     "metadata": {},
     "output_type": "display_data"
    }
   ],
   "source": [
    "Recommended_Movies = Get_Recommendations(795,cos_sim_df)\n",
    "Display_Recommendations(Recommended_Movies,Movie_Map,795)"
   ]
  },
  {
   "cell_type": "code",
   "execution_count": 28,
   "metadata": {},
   "outputs": [
    {
     "name": "stdout",
     "output_type": "stream",
     "text": [
      "Assuming that the user liked The Hunger Games:\n"
     ]
    },
    {
     "data": {
      "text/html": [
       "<table><tr><td><img src='./images/3077.jpg'></td></tr></table>"
      ],
      "text/plain": [
       "<IPython.core.display.HTML object>"
      ]
     },
     "metadata": {},
     "output_type": "display_data"
    },
    {
     "name": "stdout",
     "output_type": "stream",
     "text": [
      "The following movies are recommended:\n"
     ]
    },
    {
     "data": {
      "text/html": [
       "<table><tr><td><img src='./images/3361.jpg'></td><td><img src='./images/3760.jpg'></td><td><img src='./images/3518.jpg'></td><td><img src='./images/2490.jpg'></td><td><img src='./images/909.jpg'></td></tr><tr><td> Similarity:0.756288369602</td><td> Similarity:0.626990711657</td><td> Similarity:0.0599779801182</td><td> Similarity:0.0502080355009</td><td> Similarity:0.0455761376112</td></tr></table>"
      ],
      "text/plain": [
       "<IPython.core.display.HTML object>"
      ]
     },
     "metadata": {},
     "output_type": "display_data"
    }
   ],
   "source": [
    "Recommended_Movies = Get_Recommendations(3077,cos_sim_df)\n",
    "Display_Recommendations(Recommended_Movies,Movie_Map,3077)"
   ]
  },
  {
   "cell_type": "code",
   "execution_count": 30,
   "metadata": {},
   "outputs": [
    {
     "name": "stdout",
     "output_type": "stream",
     "text": [
      "Assuming that the user liked Hulk:\n"
     ]
    },
    {
     "data": {
      "text/html": [
       "<table><tr><td><img src='./images/761.jpg'></td></tr></table>"
      ],
      "text/plain": [
       "<IPython.core.display.HTML object>"
      ]
     },
     "metadata": {},
     "output_type": "display_data"
    },
    {
     "name": "stdout",
     "output_type": "stream",
     "text": [
      "The following movies are recommended:\n"
     ]
    },
    {
     "data": {
      "text/html": [
       "<table><tr><td><img src='./images/2148.jpg'></td><td><img src='./images/694.jpg'></td><td><img src='./images/1126.jpg'></td><td><img src='./images/2363.jpg'></td><td><img src='./images/126.jpg'></td></tr><tr><td> Similarity:0.493282754986</td><td> Similarity:0.463848922177</td><td> Similarity:0.226625372715</td><td> Similarity:0.22531960068</td><td> Similarity:0.164103131198</td></tr></table>"
      ],
      "text/plain": [
       "<IPython.core.display.HTML object>"
      ]
     },
     "metadata": {},
     "output_type": "display_data"
    }
   ],
   "source": [
    "Recommended_Movies = Get_Recommendations(761,cos_sim_df)\n",
    "Display_Recommendations(Recommended_Movies,Movie_Map,761)"
   ]
  },
  {
   "cell_type": "code",
   "execution_count": 32,
   "metadata": {},
   "outputs": [
    {
     "name": "stdout",
     "output_type": "stream",
     "text": [
      "Assuming that the user liked Spider-Man:\n"
     ]
    },
    {
     "data": {
      "text/html": [
       "<table><tr><td><img src='./images/616.jpg'></td></tr></table>"
      ],
      "text/plain": [
       "<IPython.core.display.HTML object>"
      ]
     },
     "metadata": {},
     "output_type": "display_data"
    },
    {
     "name": "stdout",
     "output_type": "stream",
     "text": [
      "The following movies are recommended:\n"
     ]
    },
    {
     "data": {
      "text/html": [
       "<table><tr><td><img src='./images/3635.jpg'></td><td><img src='./images/2017.jpg'></td><td><img src='./images/1070.jpg'></td><td><img src='./images/2921.jpg'></td><td><img src='./images/3120.jpg'></td></tr><tr><td> Similarity:0.532694697879</td><td> Similarity:0.515483578747</td><td> Similarity:0.45961557517</td><td> Similarity:0.412063982744</td><td> Similarity:0.351215409571</td></tr></table>"
      ],
      "text/plain": [
       "<IPython.core.display.HTML object>"
      ]
     },
     "metadata": {},
     "output_type": "display_data"
    }
   ],
   "source": [
    "Recommended_Movies = Get_Recommendations(616,cos_sim_df)\n",
    "Display_Recommendations(Recommended_Movies,Movie_Map,616)"
   ]
  },
  {
   "cell_type": "markdown",
   "metadata": {
    "collapsed": true
   },
   "source": [
    "The above test cases clearly show that the text based recommender is performing a pretty decent job. As a part of future work we will develop a simple web based interface to find the recommended movies.\n",
    "\n",
    "## Challenges\n",
    "The major challenges for this project are getting the data from wikipedia and cleaning the data to make it apply TFIDF and cosine similarity. "
   ]
  },
  {
   "cell_type": "code",
   "execution_count": null,
   "metadata": {
    "collapsed": true
   },
   "outputs": [],
   "source": []
  }
 ],
 "metadata": {
  "kernelspec": {
   "display_name": "Python 3",
   "language": "python",
   "name": "python3"
  },
  "language_info": {
   "codemirror_mode": {
    "name": "ipython",
    "version": 3
   },
   "file_extension": ".py",
   "mimetype": "text/x-python",
   "name": "python",
   "nbconvert_exporter": "python",
   "pygments_lexer": "ipython3",
   "version": "3.5.3"
  }
 },
 "nbformat": 4,
 "nbformat_minor": 2
}
